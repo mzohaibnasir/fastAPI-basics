{
 "cells": [
  {
   "cell_type": "code",
   "execution_count": 26,
   "metadata": {},
   "outputs": [
    {
     "data": {
      "text/plain": [
       "<generator object <genexpr> at 0x79881c29bc60>"
      ]
     },
     "execution_count": 26,
     "metadata": {},
     "output_type": "execute_result"
    }
   ],
   "source": [
    "# creating list endpoint\n",
    "BANDS = [\n",
    "    {\"id\": 1, \"name\": \"A\", \"genre\": \"X\"},\n",
    "    {\"id\": 2, \"name\": \"B\", \"genre\": \"Y\"},\n",
    "    {\"id\": 3, \"name\": \"C\", \"genre\": \"Z\"},\n",
    "    {\"id\": 2, \"name\": \"D\", \"genre\": \"W\"},\n",
    "]\n",
    "\n",
    "\n",
    "(i for i in BANDS)"
   ]
  },
  {
   "cell_type": "code",
   "execution_count": 30,
   "metadata": {},
   "outputs": [
    {
     "ename": "TypeError",
     "evalue": "'list' object is not an iterator",
     "output_type": "error",
     "traceback": [
      "\u001b[0;31m---------------------------------------------------------------------------\u001b[0m",
      "\u001b[0;31mTypeError\u001b[0m                                 Traceback (most recent call last)",
      "Cell \u001b[0;32mIn[30], line 3\u001b[0m\n\u001b[1;32m      1\u001b[0m x \u001b[38;5;241m=\u001b[39m [i \u001b[38;5;28;01mfor\u001b[39;00m i \u001b[38;5;129;01min\u001b[39;00m BANDS \u001b[38;5;28;01mif\u001b[39;00m i[\u001b[38;5;124m\"\u001b[39m\u001b[38;5;124mid\u001b[39m\u001b[38;5;124m\"\u001b[39m] \u001b[38;5;241m==\u001b[39m \u001b[38;5;241m2\u001b[39m]\n\u001b[1;32m      2\u001b[0m \u001b[38;5;66;03m# list(x)\u001b[39;00m\n\u001b[0;32m----> 3\u001b[0m \u001b[38;5;28mprint\u001b[39m(\u001b[38;5;28mnext\u001b[39m(x))\n\u001b[1;32m      4\u001b[0m \u001b[38;5;28mprint\u001b[39m(\u001b[38;5;28mnext\u001b[39m(x))\n\u001b[1;32m      6\u001b[0m \u001b[38;5;28mprint\u001b[39m(\u001b[38;5;28mnext\u001b[39m(x, \u001b[38;5;124m\"\u001b[39m\u001b[38;5;124mxxx\u001b[39m\u001b[38;5;124m\"\u001b[39m))\n",
      "\u001b[0;31mTypeError\u001b[0m: 'list' object is not an iterator"
     ]
    }
   ],
   "source": [
    "x = (i for i in BANDS if i[\"id\"] == 2)  # round brackets for generator\n",
    "# list(x)\n",
    "print(next(x))\n",
    "print(next(x))\n",
    "\n",
    "print(next(x, \"xxx\"))"
   ]
  },
  {
   "cell_type": "code",
   "execution_count": 28,
   "metadata": {},
   "outputs": [
    {
     "data": {
      "text/plain": [
       "[{'id': 1, 'name': 'A', 'genre': 'X'},\n",
       " {'id': 2, 'name': 'B', 'genre': 'Y'},\n",
       " {'id': 3, 'name': 'C', 'genre': 'Z'},\n",
       " {'id': 2, 'name': 'D', 'genre': 'W'}]"
      ]
     },
     "execution_count": 28,
     "metadata": {},
     "output_type": "execute_result"
    }
   ],
   "source": [
    "[i for i in BANDS]"
   ]
  },
  {
   "cell_type": "code",
   "execution_count": null,
   "metadata": {},
   "outputs": [],
   "source": []
  },
  {
   "cell_type": "code",
   "execution_count": null,
   "metadata": {},
   "outputs": [],
   "source": [
    "# pydantic for data validation\n",
    "\n",
    "\"\"\"\n",
    "Pydantic allows us to create classes that inherit from BaseModels. \n",
    "These classes contain fields that define the structure of piece of data\n",
    "\"\"\""
   ]
  },
  {
   "cell_type": "code",
   "execution_count": 15,
   "metadata": {},
   "outputs": [
    {
     "name": "stdout",
     "output_type": "stream",
     "text": [
      "before\n",
      "args: (1, 2, 3, 4, 5, 6, 7, 8, 9)\n",
      "45\n",
      "after\n"
     ]
    },
    {
     "data": {
      "text/plain": [
       "45"
      ]
     },
     "execution_count": 15,
     "metadata": {},
     "output_type": "execute_result"
    }
   ],
   "source": [
    "def outer(fn):\n",
    "    def wrapper(*args, **kwargs):\n",
    "        print(\"before\")\n",
    "        val = fn(*args, **kwargs)\n",
    "        print(\"after\")\n",
    "        return val\n",
    "\n",
    "    return wrapper\n",
    "\n",
    "\n",
    "@outer\n",
    "def add(*args):\n",
    "    print(\"args:\", args)\n",
    "    x = sum(args)\n",
    "    print(x)\n",
    "    return x\n",
    "\n",
    "\n",
    "add(1, 2, 3, 4, 5, 6, 7, 8, 9)"
   ]
  },
  {
   "cell_type": "code",
   "execution_count": 4,
   "metadata": {},
   "outputs": [
    {
     "data": {
      "text/plain": [
       "False"
      ]
     },
     "execution_count": 4,
     "metadata": {},
     "output_type": "execute_result"
    }
   ],
   "source": [
    "\"w\" in \"abc\""
   ]
  },
  {
   "cell_type": "code",
   "execution_count": null,
   "metadata": {},
   "outputs": [],
   "source": []
  }
 ],
 "metadata": {
  "kernelspec": {
   "display_name": "Python 3",
   "language": "python",
   "name": "python3"
  },
  "language_info": {
   "codemirror_mode": {
    "name": "ipython",
    "version": 3
   },
   "file_extension": ".py",
   "mimetype": "text/x-python",
   "name": "python",
   "nbconvert_exporter": "python",
   "pygments_lexer": "ipython3",
   "version": "3.11.5"
  }
 },
 "nbformat": 4,
 "nbformat_minor": 2
}
